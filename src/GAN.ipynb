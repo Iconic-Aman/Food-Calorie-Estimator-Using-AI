{
 "cells": [
  {
   "cell_type": "code",
   "execution_count": 151,
   "metadata": {},
   "outputs": [
    {
     "name": "stdout",
     "output_type": "stream",
     "text": [
      "orange\n"
     ]
    }
   ],
   "source": [
    "import requests\n",
    "import transformers\n",
    "from transformers import ViTFeatureExtractor, ViTForImageClassification\n",
    "import warnings\n",
    "from PIL import Image\n",
    "from io import BytesIO\n",
    "warnings.filterwarnings('ignore')\n",
    "api_key = 'Pg4KovXV5JCvaXooRRyxew==4SEE299nmZkw7xBI'\n",
    "\n",
    "img = 'C:\\\\Users\\\\raunak\\\\Desktop\\\\New folder\\\\GAN project\\\\data\\\\orange-1558624428.jpg'\n",
    "\n",
    "\n",
    "    \n",
    "\n",
    "def food_identification(img_path):\n",
    "    model_name = \"google/vit-base-patch16-224\"\n",
    "    feature_extractor = ViTFeatureExtractor.from_pretrained(model_name)\n",
    "    model = ViTForImageClassification.from_pretrained(model_name)\n",
    "    try:\n",
    "        image = Image.open(img_path)\n",
    "    except FileNotFoundError as e:\n",
    "        print('Got an error: ', e)\n",
    "\n",
    "    input = feature_extractor(images= image,return_tensors= 'pt' )   #pt means pytorch\n",
    "    outputs = model(**input)\n",
    "    logits = outputs.logits\n",
    "    # model predicts one of the 1000 ImageNet classes\n",
    "    pred_class_idx = logits.argmax(-1).item()\n",
    "    ans = f\"{model.config.id2label[pred_class_idx]}\".split(',')[0]\n",
    "    return ans\n",
    "    \n",
    "\n",
    "def cal_calculation(fruit_name):\n",
    "    api_url = f'https://api.api-ninjas.com/v1/nutrition?query={fruit_name}'\n",
    "    Headers = { 'X-Api-Key': api_key}\n",
    "    response = requests.get(api_url, headers=Headers)\n",
    "    # we are sending api_key through header because header is more secure as compare to body or api_url .\n",
    "    if response.status_code == requests.codes.ok:\n",
    "        return response.json()\n",
    "    else:\n",
    "        return f\"Error: {response.status_code}, Messages: {response.text}\"\n",
    "\n",
    "a =  food_identification(img)\n",
    "print(a)\n",
    "# print(type(a))\n",
    "# print(a.split(',')[0])\n",
    "# ans = cal_calculation(a)\n",
    "# ans\n",
    "\n"
   ]
  },
  {
   "cell_type": "markdown",
   "metadata": {},
   "source": [
    "#### Converts JSON file into HTML table"
   ]
  },
  {
   "cell_type": "code",
   "execution_count": 152,
   "metadata": {},
   "outputs": [
    {
     "name": "stdout",
     "output_type": "stream",
     "text": [
      "<table border=\"1\" style=\"border-collapse: collapse; width: 50%;\"><tr><th style=\"padding: 10px; background-color: #f2f2f2; color: blue; text-align: left;\">name</th><td style=\"padding: 10px; text-align: left;\">pineapple</td></tr><tr><th style=\"padding: 10px; background-color: #f2f2f2; color: blue; text-align: left;\">calories</th><td style=\"padding: 10px; text-align: left;\">Only available for premium subscribers.</td></tr><tr><th style=\"padding: 10px; background-color: #f2f2f2; color: blue; text-align: left;\">serving_size_g</th><td style=\"padding: 10px; text-align: left;\">Only available for premium subscribers.</td></tr><tr><th style=\"padding: 10px; background-color: #f2f2f2; color: blue; text-align: left;\">fat_total_g</th><td style=\"padding: 10px; text-align: left;\">0.1</td></tr><tr><th style=\"padding: 10px; background-color: #f2f2f2; color: blue; text-align: left;\">fat_saturated_g</th><td style=\"padding: 10px; text-align: left;\">0.0</td></tr><tr><th style=\"padding: 10px; background-color: #f2f2f2; color: blue; text-align: left;\">protein_g</th><td style=\"padding: 10px; text-align: left;\">Only available for premium subscribers.</td></tr><tr><th style=\"padding: 10px; background-color: #f2f2f2; color: blue; text-align: left;\">sodium_mg</th><td style=\"padding: 10px; text-align: left;\">0</td></tr><tr><th style=\"padding: 10px; background-color: #f2f2f2; color: blue; text-align: left;\">potassium_mg</th><td style=\"padding: 10px; text-align: left;\">8</td></tr><tr><th style=\"padding: 10px; background-color: #f2f2f2; color: blue; text-align: left;\">cholesterol_mg</th><td style=\"padding: 10px; text-align: left;\">0</td></tr><tr><th style=\"padding: 10px; background-color: #f2f2f2; color: blue; text-align: left;\">carbohydrates_total_g</th><td style=\"padding: 10px; text-align: left;\">13.0</td></tr><tr><th style=\"padding: 10px; background-color: #f2f2f2; color: blue; text-align: left;\">fiber_g</th><td style=\"padding: 10px; text-align: left;\">1.4</td></tr><tr><th style=\"padding: 10px; background-color: #f2f2f2; color: blue; text-align: left;\">sugar_g</th><td style=\"padding: 10px; text-align: left;\">9.9</td></tr></table>\n"
     ]
    }
   ],
   "source": [
    "import json\n",
    "\n",
    "def json_to_html_table(json_data):\n",
    "    # Start the HTML table\n",
    "    html = '<table border=\"1\" style=\"border-collapse: collapse; width: 50%;\">'\n",
    "    \n",
    "    # Add table rows\n",
    "    for item in json_data:\n",
    "        for key, value in item.items():\n",
    "            html += '<tr>'\n",
    "            html += f'<th style=\"padding: 10px; background-color: #f2f2f2; color: blue; text-align: left;\">{key}</th>'\n",
    "            html += f'<td style=\"padding: 10px; text-align: left;\">{value}</td>'\n",
    "            html += '</tr>'\n",
    "    \n",
    "    # End the HTML table\n",
    "    html += '</table>'\n",
    "    \n",
    "    return html\n",
    "\n",
    "# Sample JSON data\n",
    "json_data = [\n",
    "    {\n",
    "        'name': 'pineapple',\n",
    "        'calories': 'Only available for premium subscribers.',\n",
    "        'serving_size_g': 'Only available for premium subscribers.',\n",
    "        'fat_total_g': 0.1,\n",
    "        'fat_saturated_g': 0.0,\n",
    "        'protein_g': 'Only available for premium subscribers.',\n",
    "        'sodium_mg': 0,\n",
    "        'potassium_mg': 8,\n",
    "        'cholesterol_mg': 0,\n",
    "        'carbohydrates_total_g': 13.0,\n",
    "        'fiber_g': 1.4,\n",
    "        'sugar_g': 9.9\n",
    "    }\n",
    "]\n",
    "\n",
    "# Convert JSON to HTML vertical table\n",
    "html_vertical_table = json_to_html_table(json_data)\n",
    "print(html_vertical_table)\n"
   ]
  },
  {
   "cell_type": "code",
   "execution_count": 153,
   "metadata": {},
   "outputs": [],
   "source": [
    "import gradio as gr\n",
    "def display_table(json_input):\n",
    "    json_data = json.loads(json_input)\n",
    "    return json_to_html_table(json_data)\n",
    "\n",
    "\n",
    "json_example = '''\n",
    "[\n",
    "    {\n",
    "        \"name\": \"pineapple\",\n",
    "        \"calories\": \"Only available for premium subscribers.\",\n",
    "        \"serving_size_g\": \"Only available for premium subscribers.\",\n",
    "        \"fat_total_g\": 0.1,\n",
    "        \"fat_saturated_g\": 0.0,\n",
    "        \"protein_g\": \"Only available for premium subscribers.\",\n",
    "        \"sodium_mg\": 0,\n",
    "        \"potassium_mg\": 8,\n",
    "        \"cholesterol_mg\": 0,\n",
    "        \"carbohydrates_total_g\": 13.0,\n",
    "        \"fiber_g\": 1.4,\n",
    "        \"sugar_g\": 9.9\n",
    "    }\n",
    "]\n",
    "'''\n",
    "\n"
   ]
  },
  {
   "cell_type": "code",
   "execution_count": 154,
   "metadata": {},
   "outputs": [
    {
     "data": {
      "text/plain": [
       "'<table border=\"1\" style=\"border-collapse: collapse; width: 50%;\"><tr><th style=\"padding: 10px; background-color: #f2f2f2; color: blue; text-align: left;\">name</th><td style=\"padding: 10px; text-align: left;\">jackfruit</td></tr><tr><th style=\"padding: 10px; background-color: #f2f2f2; color: blue; text-align: left;\">calories</th><td style=\"padding: 10px; text-align: left;\">Only available for premium subscribers.</td></tr><tr><th style=\"padding: 10px; background-color: #f2f2f2; color: blue; text-align: left;\">serving_size_g</th><td style=\"padding: 10px; text-align: left;\">Only available for premium subscribers.</td></tr><tr><th style=\"padding: 10px; background-color: #f2f2f2; color: blue; text-align: left;\">fat_total_g</th><td style=\"padding: 10px; text-align: left;\">0.6</td></tr><tr><th style=\"padding: 10px; background-color: #f2f2f2; color: blue; text-align: left;\">fat_saturated_g</th><td style=\"padding: 10px; text-align: left;\">0.2</td></tr><tr><th style=\"padding: 10px; background-color: #f2f2f2; color: blue; text-align: left;\">protein_g</th><td style=\"padding: 10px; text-align: left;\">Only available for premium subscribers.</td></tr><tr><th style=\"padding: 10px; background-color: #f2f2f2; color: blue; text-align: left;\">sodium_mg</th><td style=\"padding: 10px; text-align: left;\">2</td></tr><tr><th style=\"padding: 10px; background-color: #f2f2f2; color: blue; text-align: left;\">potassium_mg</th><td style=\"padding: 10px; text-align: left;\">20</td></tr><tr><th style=\"padding: 10px; background-color: #f2f2f2; color: blue; text-align: left;\">cholesterol_mg</th><td style=\"padding: 10px; text-align: left;\">0</td></tr><tr><th style=\"padding: 10px; background-color: #f2f2f2; color: blue; text-align: left;\">carbohydrates_total_g</th><td style=\"padding: 10px; text-align: left;\">23.4</td></tr><tr><th style=\"padding: 10px; background-color: #f2f2f2; color: blue; text-align: left;\">fiber_g</th><td style=\"padding: 10px; text-align: left;\">1.5</td></tr><tr><th style=\"padding: 10px; background-color: #f2f2f2; color: blue; text-align: left;\">sugar_g</th><td style=\"padding: 10px; text-align: left;\">19.0</td></tr></table>'"
      ]
     },
     "execution_count": 154,
     "metadata": {},
     "output_type": "execute_result"
    }
   ],
   "source": [
    "import json\n",
    "def main_function(image_path):\n",
    "    food_identity = food_identification(image_path)\n",
    "    neutrition_info = cal_calculation(food_identity)\n",
    "    json_data = json.dumps(neutrition_info)   #convert list into json format by using json.dumps() method\n",
    "    html_table_output = display_table(json_data)\n",
    "    return html_table_output\n",
    "    \n",
    "    \n",
    "main_function('C:\\\\Users\\\\raunak\\\\Desktop\\\\New folder\\\\GAN project\\\\data\\\\jackfruit.jpg')"
   ]
  },
  {
   "cell_type": "markdown",
   "metadata": {},
   "source": [
    "#### make a gradio interface for our model"
   ]
  },
  {
   "cell_type": "code",
   "execution_count": 155,
   "metadata": {},
   "outputs": [],
   "source": [
    "def gradio_interface(img):\n",
    "    return main_function(img)"
   ]
  },
  {
   "cell_type": "code",
   "execution_count": 156,
   "metadata": {},
   "outputs": [
    {
     "name": "stdout",
     "output_type": "stream",
     "text": [
      "Running on local URL:  http://127.0.0.1:7888\n",
      "\n",
      "To create a public link, set `share=True` in `launch()`.\n"
     ]
    },
    {
     "data": {
      "text/html": [
       "<div><iframe src=\"http://127.0.0.1:7888/\" width=\"100%\" height=\"500\" allow=\"autoplay; camera; microphone; clipboard-read; clipboard-write;\" frameborder=\"0\" allowfullscreen></iframe></div>"
      ],
      "text/plain": [
       "<IPython.core.display.HTML object>"
      ]
     },
     "metadata": {},
     "output_type": "display_data"
    },
    {
     "data": {
      "text/plain": []
     },
     "execution_count": 156,
     "metadata": {},
     "output_type": "execute_result"
    }
   ],
   "source": [
    "import gradio as gr\n",
    "iface = gr.Interface(\n",
    "    fn= gradio_interface,\n",
    "    inputs= gr.Image(type='filepath'),\n",
    "    outputs= 'html',\n",
    "    title= 'Food Identification and neutrition info',\n",
    "    description= 'Upload the image of a food to get neutrition info',\n",
    "    allow_flagging='never',\n",
    "    \n",
    ")\n",
    "\n",
    "iface.launch()"
   ]
  }
 ],
 "metadata": {
  "kernelspec": {
   "display_name": "conda",
   "language": "python",
   "name": "python3"
  },
  "language_info": {
   "codemirror_mode": {
    "name": "ipython",
    "version": 3
   },
   "file_extension": ".py",
   "mimetype": "text/x-python",
   "name": "python",
   "nbconvert_exporter": "python",
   "pygments_lexer": "ipython3",
   "version": "3.10.0"
  }
 },
 "nbformat": 4,
 "nbformat_minor": 2
}
