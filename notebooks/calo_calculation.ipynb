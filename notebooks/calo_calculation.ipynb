{
 "cells": [
  {
   "cell_type": "code",
   "execution_count": 2,
   "metadata": {},
   "outputs": [
    {
     "name": "stdout",
     "output_type": "stream",
     "text": [
      "[{\"name\": \"orange\", \"calories\": 50.4, \"serving_size_g\": 100.0, \"fat_total_g\": 0.1, \"fat_saturated_g\": 0.0, \"protein_g\": 0.9, \"sodium_mg\": 1, \"potassium_mg\": 23, \"cholesterol_mg\": 0, \"carbohydrates_total_g\": 12.4, \"fiber_g\": 2.2, \"sugar_g\": 8.4}]\n"
     ]
    }
   ],
   "source": [
    "import requests\n",
    "from APIkey import api_key\n",
    "fruit_name = 'orange'\n",
    "api_url = f'https://api.api-ninjas.com/v1/nutrition?query={fruit_name}'\n",
    "response = requests.get(api_url, headers={'X-Api-Key': api_key})\n",
    "if response.status_code ==  requests.codes.ok:\n",
    "    print(response.text)\n",
    "else:\n",
    "    print('error', response.status_code, response.text)\n"
   ]
  }
 ],
 "metadata": {
  "kernelspec": {
   "display_name": "venv",
   "language": "python",
   "name": "python3"
  },
  "language_info": {
   "codemirror_mode": {
    "name": "ipython",
    "version": 3
   },
   "file_extension": ".py",
   "mimetype": "text/x-python",
   "name": "python",
   "nbconvert_exporter": "python",
   "pygments_lexer": "ipython3",
   "version": "3.10.0"
  }
 },
 "nbformat": 4,
 "nbformat_minor": 2
}
